{
 "cells": [
  {
   "cell_type": "markdown",
   "metadata": {},
   "source": [
    "# Module 2: Control Flow Assignments\n",
    "## Lesson 2.1: Conditional Statements\n",
    "### Assignment 1: Simple if Statement\n",
    "\n",
    "Write a program that asks the user to input a number and prints whether the number is positive."
   ]
  },
  {
   "cell_type": "code",
   "execution_count": 4,
   "id": "6f802702",
   "metadata": {},
   "outputs": [
    {
     "name": "stdout",
     "output_type": "stream",
     "text": [
      "Positive number\n"
     ]
    }
   ],
   "source": [
    "num = float(input(\"Enter a number\"))\n",
    "\n",
    "if num > 0:\n",
    "    print(\"Positive number\")   "
   ]
  },
  {
   "cell_type": "markdown",
   "id": "07bc91e9",
   "metadata": {},
   "source": [
    "### Assignment 2: if-else Statement\n",
    "\n",
    "Write a program that asks the user to input a number and prints whether the number is positive or negative.\n"
   ]
  },
  {
   "cell_type": "code",
   "execution_count": 7,
   "id": "b17bb324",
   "metadata": {},
   "outputs": [
    {
     "name": "stdout",
     "output_type": "stream",
     "text": [
      "negative number\n"
     ]
    }
   ],
   "source": [
    "num = float(input(\"Enter a number\"))\n",
    "\n",
    "if num > 0 :\n",
    "    print(\"The number is Positive\")\n",
    "else:\n",
    "    print(\"The number is negative\")    "
   ]
  },
  {
   "cell_type": "markdown",
   "id": "f4cb8e27",
   "metadata": {},
   "source": [
    "### Assignment 3: if-elif-else Statement\n",
    "\n",
    "Write a program that asks the user to input a number and prints whether the number is positive, negative, or zero."
   ]
  },
  {
   "cell_type": "code",
   "execution_count": 11,
   "id": "0947c11a",
   "metadata": {},
   "outputs": [
    {
     "name": "stdout",
     "output_type": "stream",
     "text": [
      "90.0 is Positive number\n"
     ]
    }
   ],
   "source": [
    "num = float(input(\"Enter a number\"))\n",
    "\n",
    "if num > 0 :\n",
    "    print(f\"{num} is Positive number\")\n",
    "elif num < 0 :\n",
    "    print(f\"{num} is negative number\") \n",
    "else :\n",
    "    print(f\"{num} is zero number\")       "
   ]
  },
  {
   "cell_type": "markdown",
   "id": "37cb41ed",
   "metadata": {},
   "source": [
    "### Assignment 4: Nested if Statement\n",
    "\n",
    "Write a program that asks the user to input a number and prints whether the number is positive and even, positive and odd, or negative."
   ]
  },
  {
   "cell_type": "code",
   "execution_count": 14,
   "id": "28428c84",
   "metadata": {},
   "outputs": [
    {
     "name": "stdout",
     "output_type": "stream",
     "text": [
      " 80.0 is positive and even.\n"
     ]
    }
   ],
   "source": [
    "num = float(input(\"Enter a number\"))\n",
    "\n",
    "if num > 0:\n",
    "    if num % 2 == 0:\n",
    "        print(f\" {num} is positive and even.\")\n",
    "    else:\n",
    "        print(f\" {num} is negative and odd.\")    \n",
    "else:\n",
    "    print(f\"{num} is negative number\")    "
   ]
  },
  {
   "cell_type": "markdown",
   "id": "63093264",
   "metadata": {},
   "source": [
    "## Lesson 2.2: Loops\n",
    "### Assignment 5: for Loop\n",
    "\n",
    "Write a program that prints all the numbers from 1 to 10 using a for loop."
   ]
  },
  {
   "cell_type": "code",
   "execution_count": 17,
   "id": "b875acf7",
   "metadata": {},
   "outputs": [
    {
     "name": "stdout",
     "output_type": "stream",
     "text": [
      "1\n",
      "2\n",
      "3\n",
      "4\n",
      "5\n",
      "6\n",
      "7\n",
      "8\n",
      "9\n",
      "10\n"
     ]
    }
   ],
   "source": [
    "num = int(input(\"Enter a number\"))\n",
    "\n",
    "for i in range(1, 11):\n",
    "    print(i)"
   ]
  },
  {
   "cell_type": "markdown",
   "id": "b2acb6cb",
   "metadata": {},
   "source": [
    "### Assignment 6: while Loop\n",
    "\n",
    "Write a program that prints all the numbers from 1 to 10 using a while loop."
   ]
  },
  {
   "cell_type": "code",
   "execution_count": 21,
   "id": "a66bb2d2",
   "metadata": {},
   "outputs": [
    {
     "name": "stdout",
     "output_type": "stream",
     "text": [
      "1\n",
      "2\n",
      "3\n",
      "4\n",
      "5\n",
      "6\n",
      "7\n",
      "8\n",
      "9\n",
      "10\n"
     ]
    }
   ],
   "source": [
    "num = int(input(\"Enter a number\"))\n",
    "\n",
    "i = 1\n",
    "while i <= num:\n",
    "    print(i)\n",
    "    i += 1"
   ]
  },
  {
   "cell_type": "markdown",
   "id": "cc26351c",
   "metadata": {},
   "source": [
    "### Assignment 7: Nested Loops\n",
    "\n",
    "Write a program that prints a 5x5 grid of asterisks (*) using nested loops."
   ]
  },
  {
   "cell_type": "code",
   "execution_count": 22,
   "id": "d6027ea4",
   "metadata": {},
   "outputs": [
    {
     "name": "stdout",
     "output_type": "stream",
     "text": [
      "* * * * * \n",
      "* * * * * \n",
      "* * * * * \n",
      "* * * * * \n",
      "* * * * * \n"
     ]
    }
   ],
   "source": [
    "for i in range(5):\n",
    "    for j in range(5):\n",
    "        print(\"*\", end=\" \")\n",
    "    print()    \n",
    "\n"
   ]
  },
  {
   "cell_type": "markdown",
   "id": "9580b982",
   "metadata": {},
   "source": [
    "### Assignment 8: break Statement\n",
    "\n",
    "Write a program that asks the user to input numbers until they input 0. The program should print the sum of all the input numbers."
   ]
  },
  {
   "cell_type": "code",
   "execution_count": 30,
   "id": "bf16ff34",
   "metadata": {},
   "outputs": [
    {
     "name": "stdout",
     "output_type": "stream",
     "text": [
      "The sum of all numbers given by user are 20.0\n"
     ]
    }
   ],
   "source": [
    "sum = 0\n",
    "\n",
    "while True :\n",
    "    num = float(input(\"Enter a number\"))\n",
    "    if(num == 0):\n",
    "        break\n",
    "    sum = sum + num\n",
    "print(f\"The sum of all numbers given by user are {sum}\")    "
   ]
  },
  {
   "cell_type": "markdown",
   "id": "02634a2f",
   "metadata": {},
   "source": [
    "### Assignment 9: continue Statement\n",
    "\n",
    "Write a program that prints all the numbers from 1 to 10 except 5 using a for loop and continue statement."
   ]
  },
  {
   "cell_type": "code",
   "execution_count": 35,
   "id": "0101c43b",
   "metadata": {},
   "outputs": [
    {
     "name": "stdout",
     "output_type": "stream",
     "text": [
      "1\n",
      "2\n",
      "3\n",
      "4\n",
      "6\n",
      "7\n",
      "8\n",
      "9\n",
      "10\n"
     ]
    }
   ],
   "source": [
    "for i in range(1, 11):\n",
    "    if(i == 5):\n",
    "      continue\n",
    "    print(i)"
   ]
  },
  {
   "cell_type": "markdown",
   "id": "47a6d155",
   "metadata": {},
   "source": [
    "### Assignment 10: pass Statement\n",
    "\n",
    "Write a program that defines an empty function using the pass statement."
   ]
  },
  {
   "cell_type": "code",
   "execution_count": 36,
   "id": "1a600653",
   "metadata": {},
   "outputs": [],
   "source": [
    "def empty_fun():\n",
    "    pass\n",
    "\n",
    "empty_fun()"
   ]
  },
  {
   "cell_type": "markdown",
   "id": "dea5a8ac",
   "metadata": {},
   "source": [
    "### Assignment 11: Combining Loops and Conditionals\n",
    "\n",
    "Write a program that asks the user to input a number and prints all the even numbers from 1 to that number using a for loop."
   ]
  },
  {
   "cell_type": "code",
   "execution_count": 41,
   "id": "8f5fb7c4",
   "metadata": {},
   "outputs": [
    {
     "name": "stdout",
     "output_type": "stream",
     "text": [
      "2\n",
      "4\n",
      "6\n",
      "8\n",
      "10\n",
      "12\n",
      "14\n",
      "16\n",
      "18\n",
      "20\n"
     ]
    }
   ],
   "source": [
    "num = int(input(\"Enter a number\"))\n",
    "\n",
    "for i in range(1, num+1):\n",
    "    if i % 2 == 0:\n",
    "     print(i)"
   ]
  },
  {
   "cell_type": "markdown",
   "id": "558a4b97",
   "metadata": {},
   "source": [
    "### Assignment 12: Factorial Calculation\n",
    "\n",
    "Write a program that calculates the factorial of a number input by the user using a while loop."
   ]
  },
  {
   "cell_type": "code",
   "execution_count": 47,
   "id": "789d492a",
   "metadata": {},
   "outputs": [
    {
     "name": "stdout",
     "output_type": "stream",
     "text": [
      "The factorial of 5 is 120\n"
     ]
    }
   ],
   "source": [
    "num = int(input(\"Enter a number\"))\n",
    "\n",
    "fact = 1\n",
    "i = 1\n",
    "while i <= num:\n",
    "   fact = fact *i\n",
    "   i += 1\n",
    "print(f\"The factorial of {num} is {fact}\")"
   ]
  },
  {
   "cell_type": "markdown",
   "id": "d4b59bb5",
   "metadata": {},
   "source": [
    "### Assignment 13: Sum of Digits\n",
    "\n",
    "Write a program that calculates the sum of the digits of a number input by the user using a while loop.\n"
   ]
  },
  {
   "cell_type": "code",
   "execution_count": 2,
   "id": "d33d0aa3",
   "metadata": {},
   "outputs": [
    {
     "name": "stdout",
     "output_type": "stream",
     "text": [
      "The Sum of digits are 6.\n"
     ]
    }
   ],
   "source": [
    "num = int(input(\"Enter a number\"))\n",
    "sum_of_digits = 0\n",
    "while num > 0:\n",
    "    digit = num % 10\n",
    "    sum_of_digits += digit\n",
    "    num = num // 10\n",
    "print(f\"The Sum of digits are {sum_of_digits}.\")    "
   ]
  },
  {
   "cell_type": "markdown",
   "id": "1d53ffbc",
   "metadata": {},
   "source": [
    "### Assignment 14: Prime Number Check\n",
    "\n",
    "Write a program that checks if a number input by the user is a prime number using a for loop."
   ]
  },
  {
   "cell_type": "code",
   "execution_count": 4,
   "id": "5d7cdaf3",
   "metadata": {},
   "outputs": [
    {
     "name": "stdout",
     "output_type": "stream",
     "text": [
      "11 is a prime number.\n"
     ]
    }
   ],
   "source": [
    "num = int(input(\"Enter a number\"))\n",
    "is_prime = True\n",
    "\n",
    "if num <= 1:\n",
    "    is_prime = False\n",
    "else:\n",
    "    for i in range(2, int(num ** 0.5) + 1):\n",
    "        if(num % i == 0):\n",
    "            is_prime = False\n",
    "            break\n",
    "if is_prime:\n",
    "    print(f\"{num} is a prime number.\")\n",
    "else:\n",
    "    print(f\"{num} is not a prime number.\")        "
   ]
  },
  {
   "cell_type": "markdown",
   "id": "e2958385",
   "metadata": {},
   "source": [
    "### Assignment 15: Fibonacci Sequence\n",
    "\n",
    "Write a program that prints the first n Fibonacci numbers, where n is input by the user."
   ]
  },
  {
   "cell_type": "code",
   "execution_count": 15,
   "id": "b9c4d98d",
   "metadata": {},
   "outputs": [
    {
     "name": "stdout",
     "output_type": "stream",
     "text": [
      "0\n",
      "1\n",
      "1\n",
      "2\n",
      "3\n",
      "5\n",
      "8\n",
      "13\n",
      "21\n",
      "34\n"
     ]
    }
   ],
   "source": [
    "num = int(input(\"Enter a number of fibonacci numbers to print\"))\n",
    "a, b= 0, 1\n",
    "count = 0\n",
    "while count < num:\n",
    "    print(a)\n",
    "    a, b = b, a + b\n",
    "    count += 1\n"
   ]
  },
  {
   "cell_type": "code",
   "execution_count": null,
   "id": "bd259f6a",
   "metadata": {},
   "outputs": [],
   "source": []
  }
 ],
 "metadata": {
  "kernelspec": {
   "display_name": "Python 3",
   "language": "python",
   "name": "python3"
  },
  "language_info": {
   "codemirror_mode": {
    "name": "ipython",
    "version": 3
   },
   "file_extension": ".py",
   "mimetype": "text/x-python",
   "name": "python",
   "nbconvert_exporter": "python",
   "pygments_lexer": "ipython3",
   "version": "3.12.4"
  }
 },
 "nbformat": 4,
 "nbformat_minor": 5
}
