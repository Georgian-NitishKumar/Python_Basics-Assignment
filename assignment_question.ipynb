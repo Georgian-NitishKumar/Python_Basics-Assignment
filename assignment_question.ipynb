{
 "cells": [
  {
   "cell_type": "markdown",
   "metadata": {},
   "source": [
    "# Lesson 1.2: Python Basics\n",
    "## Topics Covered:\n",
    "- Syntax and Semantics\n",
    "- Variables and Data Types\n",
    "- Basic Operators (Arithmetic, Comparison, Logical)\n"
   ]
  },
  {
   "cell_type": "markdown",
   "metadata": {},
   "source": [
    "## 1. Syntax and Semantics\n",
    "\n",
    "**Question 1:** Write a Python program to print \"Hello, World!\"."
   ]
  },
  {
   "cell_type": "code",
   "execution_count": 5,
   "metadata": {},
   "outputs": [
    {
     "name": "stdout",
     "output_type": "stream",
     "text": [
      "\"Hello,World!\".\n"
     ]
    }
   ],
   "source": [
    "print(\"\\\"Hello,World!\\\".\")"
   ]
  },
  {
   "cell_type": "markdown",
   "metadata": {},
   "source": [
    "**Question 2:** Write a Python program that takes a user input and prints it."
   ]
  },
  {
   "cell_type": "code",
   "execution_count": 12,
   "metadata": {},
   "outputs": [
    {
     "name": "stdout",
     "output_type": "stream",
     "text": [
      "Enterd by user is :: hllojio\n"
     ]
    }
   ],
   "source": [
    "store = input(\"Enter Something to print\")\n",
    "print(f\"Enterd by user is :: {store}\")"
   ]
  },
  {
   "cell_type": "markdown",
   "metadata": {},
   "source": [
    "**Question 3:** Write a Python program to check if a number is positive, negative, or zero."
   ]
  },
  {
   "cell_type": "code",
   "execution_count": 10,
   "metadata": {},
   "outputs": [
    {
     "name": "stdout",
     "output_type": "stream",
     "text": [
      " The number is zero\n"
     ]
    }
   ],
   "source": [
    "num = float(input(\"Enter a number ::\"))\n",
    "if(num > 0):\n",
    "    print(\"The number is positive\")\n",
    "elif(num < 0):\n",
    "    print(\"The number is Negative\")\n",
    "else:\n",
    "    print(\" The number is zero\")        "
   ]
  },
  {
   "cell_type": "markdown",
   "metadata": {},
   "source": [
    "**Question 4:** Write a Python program to find the largest of three numbers."
   ]
  },
  {
   "cell_type": "code",
   "execution_count": 13,
   "metadata": {},
   "outputs": [
    {
     "name": "stdout",
     "output_type": "stream",
     "text": [
      "The largest number is :: 67.0\n"
     ]
    }
   ],
   "source": [
    "num1 = float(input(\"Enter 1st number :: \"))\n",
    "num2 = float(input(\"Enter 2nd number :: \"))\n",
    "num3 = float(input(\"Enter 3rd number :: \"))\n",
    "\n",
    "if(num1 > num2 and num1 > num3):\n",
    "    num = num1\n",
    "elif(num2 > num3 and num2 > num1):\n",
    "    num = num2    \n",
    "else:\n",
    "    num = num3\n",
    "\n",
    "print(f\"The largest number is :: {num}\")"
   ]
  },
  {
   "cell_type": "markdown",
   "metadata": {},
   "source": [
    "**Question 5:** Write a Python program to calculate the factorial of a number."
   ]
  },
  {
   "cell_type": "code",
   "execution_count": 24,
   "metadata": {},
   "outputs": [
    {
     "name": "stdout",
     "output_type": "stream",
     "text": [
      "The factorial of 5 is  120\n"
     ]
    }
   ],
   "source": [
    "num = int(input(\"Enter a number :: \"))\n",
    "factorial = 1\n",
    "for i in range (1, num + 1):\n",
    "    factorial = factorial *i\n",
    "print(f\"The factorial of {num} is \",factorial)    "
   ]
  },
  {
   "cell_type": "markdown",
   "metadata": {},
   "source": [
    "## 2. Variables and Data Types\n",
    "\n",
    "**Question 6:** Create variables of different data types: integer, float, string, and boolean. Print their values and types."
   ]
  },
  {
   "cell_type": "code",
   "execution_count": 27,
   "metadata": {},
   "outputs": [
    {
     "name": "stdout",
     "output_type": "stream",
     "text": [
      "Integer value : 30, type : <class 'int'>\n",
      "Float value : 70.5, type : <class 'float'>\n",
      "String value : Nitish, type : <class 'str'>\n",
      "boolean value : True, type : <class 'bool'>\n"
     ]
    }
   ],
   "source": [
    "integer_var = 30\n",
    "float_var = 70.5\n",
    "string_var = \"Nitish\"\n",
    "boolean_var =  True\n",
    "\n",
    "print(f\"Integer value : {integer_var}, type : {type(integer_var)}\")\n",
    "print(f\"Float value : {float_var}, type : {type(float_var)}\")\n",
    "print(f\"String value : {string_var}, type : {type(string_var)}\")\n",
    "print(f\"boolean value : {boolean_var}, type : {type(boolean_var)}\")"
   ]
  },
  {
   "cell_type": "markdown",
   "metadata": {},
   "source": [
    "**Question 7:** Write a Python program to swap the values of two variables."
   ]
  },
  {
   "cell_type": "code",
   "execution_count": 30,
   "metadata": {},
   "outputs": [
    {
     "name": "stdout",
     "output_type": "stream",
     "text": [
      "Before swap :: num1 = 3443, num2 = 43\n",
      "After swap :: num1 = 43, num2 = 3443\n"
     ]
    }
   ],
   "source": [
    "num1 = input(\"Enter 1st number\")\n",
    "num2 = input(\"Enter 2nd number\")\n",
    "\n",
    "print(f\"Before swap :: num1 = {num1}, num2 = {num2}\")\n",
    "\n",
    "temp = num1\n",
    "num1 = num2\n",
    "num2 = temp\n",
    "\n",
    "print(f\"After swap :: num1 = {num1}, num2 = {num2}\")\n"
   ]
  },
  {
   "cell_type": "markdown",
   "metadata": {},
   "source": [
    "**Question 8:** Write a Python program to convert Celsius to Fahrenheit."
   ]
  },
  {
   "cell_type": "code",
   "execution_count": 31,
   "metadata": {},
   "outputs": [
    {
     "name": "stdout",
     "output_type": "stream",
     "text": [
      "23.0°C is equal to 73.4°F\n"
     ]
    }
   ],
   "source": [
    "celsius = float(input(\"Enter temperature in Celsius: \"))\n",
    "fahrenheit = (celsius * 9/5) + 32\n",
    "print(f\"{celsius}°C is equal to {fahrenheit}°F\")"
   ]
  },
  {
   "cell_type": "markdown",
   "metadata": {},
   "source": [
    "**Question 9:** Write a Python program to concatenate two strings."
   ]
  },
  {
   "cell_type": "code",
   "execution_count": 32,
   "metadata": {},
   "outputs": [
    {
     "name": "stdout",
     "output_type": "stream",
     "text": [
      "Nitish Kumar\n"
     ]
    }
   ],
   "source": [
    "Str1 = \"Nitish\"\n",
    "Str2 = \"Kumar\"\n",
    "\n",
    "print(Str1 + \" \" + Str2)"
   ]
  },
  {
   "cell_type": "markdown",
   "metadata": {},
   "source": [
    "**Question 10:** Write a Python program to check if a variable is of a specific data type."
   ]
  },
  {
   "cell_type": "code",
   "execution_count": 3,
   "metadata": {},
   "outputs": [
    {
     "name": "stdout",
     "output_type": "stream",
     "text": [
      "10 is not a float\n"
     ]
    }
   ],
   "source": [
    "var = 10\n",
    "if isinstance(var, float):\n",
    "    print(f\"{var} is a float\")\n",
    "else:\n",
    "    print(f\"{var} is not a float\")"
   ]
  },
  {
   "cell_type": "markdown",
   "metadata": {},
   "source": [
    "## 3. Basic Operators (Arithmetic, Comparison, Logical)\n",
    "\n",
    "**Question 11:** Write a Python program to perform arithmetic operations: addition, subtraction, multiplication, and division."
   ]
  },
  {
   "cell_type": "code",
   "execution_count": 6,
   "metadata": {},
   "outputs": [
    {
     "name": "stdout",
     "output_type": "stream",
     "text": [
      "Addition : 12.0 + 4.0 = 16.0\n",
      "Subtraction : 12.0 - 4.0 = 8.0\n",
      "Multiplication : 12.0 * 4.0 = 48.0\n",
      "Division : 12.0 / 4.0 = 3.0\n"
     ]
    }
   ],
   "source": [
    "num1 = float(input(\"Enter first number\"))\n",
    "num2 = float(input(\"Enter second number\"))\n",
    "\n",
    "print(f\"Addition : {num1} + {num2} = {num1 + num2}\")\n",
    "print(f\"Subtraction : {num1} - {num2} = {num1 - num2}\")\n",
    "print(f\"Multiplication : {num1} * {num2} = {num1 * num2}\")\n",
    "print(f\"Division : {num1} / {num2} = {num1 / num2}\")"
   ]
  },
  {
   "cell_type": "markdown",
   "metadata": {},
   "source": [
    "**Question 12:** Write a Python program to demonstrate comparison operators: equal to, not equal to, greater than, less than."
   ]
  },
  {
   "cell_type": "code",
   "execution_count": 8,
   "metadata": {},
   "outputs": [
    {
     "name": "stdout",
     "output_type": "stream",
     "text": [
      "45 == 49 :: False\n",
      "45 != 49 :: True\n",
      "45 > 49 :: False\n",
      "45 < 49 :: True\n"
     ]
    }
   ],
   "source": [
    "num1 = 45\n",
    "num2 = 49\n",
    "\n",
    "print(f\"{num1} == {num2} :: {num1 == num2}\")\n",
    "print(f\"{num1} != {num2} :: {num1 != num2}\")\n",
    "print(f\"{num1} > {num2} :: {num1 > num2}\")\n",
    "print(f\"{num1} < {num2} :: {num1 < num2}\")"
   ]
  },
  {
   "cell_type": "markdown",
   "metadata": {},
   "source": [
    "**Question 13:** Write a Python program to demonstrate logical operators: and, or, not."
   ]
  },
  {
   "cell_type": "code",
   "execution_count": 12,
   "metadata": {},
   "outputs": [
    {
     "name": "stdout",
     "output_type": "stream",
     "text": [
      "True AND False :: False\n",
      "True OR False :: True\n",
      "True NOT False :: False\n"
     ]
    }
   ],
   "source": [
    "a = True\n",
    "b = False\n",
    "\n",
    "print(f\"{a} AND {b} :: {a and b}\")\n",
    "print(f\"{a} OR {b} :: {a or b}\")\n",
    "print(f\"{a} NOT {b} :: {not a}\")"
   ]
  },
  {
   "cell_type": "markdown",
   "metadata": {},
   "source": [
    "**Question 14:** Write a Python program to calculate the square of a number."
   ]
  },
  {
   "cell_type": "code",
   "execution_count": 30,
   "metadata": {},
   "outputs": [
    {
     "name": "stdout",
     "output_type": "stream",
     "text": [
      "Square of 5.0 is 25.0\n"
     ]
    }
   ],
   "source": [
    "num = float(input(\"Enter a number\"))\n",
    "print(f\"Square of {num} is {num**2}\")"
   ]
  },
  {
   "cell_type": "markdown",
   "metadata": {},
   "source": [
    "**Question 15:** Write a Python program to check if a number is even or odd."
   ]
  },
  {
   "cell_type": "code",
   "execution_count": 20,
   "metadata": {},
   "outputs": [
    {
     "name": "stdout",
     "output_type": "stream",
     "text": [
      "69.0 is odd number\n"
     ]
    }
   ],
   "source": [
    "num = float(input(\"Enter a number\"))\n",
    "\n",
    "if(num % 2 == 0):\n",
    "    print(f\"{num} is even number\")\n",
    "else:\n",
    "    print(f\"{num} is odd number\")    "
   ]
  },
  {
   "cell_type": "markdown",
   "metadata": {},
   "source": [
    "**Question 16:** Write a Python program to find the sum of the first n natural numbers."
   ]
  },
  {
   "cell_type": "code",
   "execution_count": 36,
   "metadata": {},
   "outputs": [
    {
     "name": "stdout",
     "output_type": "stream",
     "text": [
      "Sum of 10 natural number is 90\n"
     ]
    }
   ],
   "source": [
    "n = int(input(\"Enter a number\"))\n",
    "sum = 0\n",
    "for i in range(1, n):\n",
    "     sum += n\n",
    "print(f\"Sum of {n} natural number is {sum}\")\n",
    "   "
   ]
  },
  {
   "cell_type": "markdown",
   "metadata": {},
   "source": [
    "**Question 17:** Write a Python program to check if a year is a leap year."
   ]
  },
  {
   "cell_type": "code",
   "execution_count": 37,
   "metadata": {},
   "outputs": [
    {
     "name": "stdout",
     "output_type": "stream",
     "text": [
      "2024 is leap year\n"
     ]
    }
   ],
   "source": [
    "year = int(input(\"Enter a year\"))\n",
    "if(year % 4 == 0 and year % 100 != 0 or year % 400 == 0):\n",
    "    print(f\"{year} is leap year\")\n",
    "else:\n",
    "    print(f\"{year} is not leap year\")"
   ]
  },
  {
   "cell_type": "markdown",
   "metadata": {},
   "source": [
    "**Question 18:** Write a Python program to reverse a string."
   ]
  },
  {
   "cell_type": "code",
   "execution_count": 44,
   "metadata": {},
   "outputs": [
    {
     "name": "stdout",
     "output_type": "stream",
     "text": [
      "The reversed string is :: hsitin\n"
     ]
    }
   ],
   "source": [
    "string = input(\"Enter a String\")\n",
    "reversed_String = string[::-1]\n",
    "print(f\"The reversed string is :: {reversed_String}\")"
   ]
  },
  {
   "cell_type": "markdown",
   "metadata": {},
   "source": [
    "**Question 19:** Write a Python program to check if a string is a palindrome."
   ]
  },
  {
   "cell_type": "code",
   "execution_count": 6,
   "metadata": {},
   "outputs": [
    {
     "name": "stdout",
     "output_type": "stream",
     "text": [
      "heelo is not palindrome\n"
     ]
    }
   ],
   "source": [
    "String = input(\"Enter a String\")\n",
    "\n",
    "if String == String[::-1]:\n",
    "    print( f\"{String} is palindrome\")\n",
    "else:\n",
    "    print(f\"{String} is not palindrome\")    "
   ]
  },
  {
   "cell_type": "markdown",
   "metadata": {},
   "source": [
    "**Question 20:** Write a Python program to sort a list of numbers in ascending order."
   ]
  },
  {
   "cell_type": "code",
   "execution_count": 10,
   "metadata": {},
   "outputs": [
    {
     "name": "stdout",
     "output_type": "stream",
     "text": [
      "['BMW', 'Ford', 'Volvo']\n"
     ]
    }
   ],
   "source": [
    "cars = ['Ford', 'BMW', 'Volvo']\n",
    "cars.sort()\n",
    "print(cars)\n"
   ]
  },
  {
   "cell_type": "code",
   "execution_count": 11,
   "metadata": {},
   "outputs": [
    {
     "name": "stdout",
     "output_type": "stream",
     "text": [
      "Sorted list: [2, 3, 3, 4, 5, 6, 7, 7]\n"
     ]
    }
   ],
   "source": [
    "numbers = [int(x) for x in input(\"Enter numbers separated by space: \").split()]\n",
    "numbers.sort()\n",
    "print(f\"Sorted list: {numbers}\")"
   ]
  },
  {
   "cell_type": "code",
   "execution_count": null,
   "metadata": {},
   "outputs": [],
   "source": []
  }
 ],
 "metadata": {
  "kernelspec": {
   "display_name": "Python 3",
   "language": "python",
   "name": "python3"
  },
  "language_info": {
   "codemirror_mode": {
    "name": "ipython",
    "version": 3
   },
   "file_extension": ".py",
   "mimetype": "text/x-python",
   "name": "python",
   "nbconvert_exporter": "python",
   "pygments_lexer": "ipython3",
   "version": "3.12.4"
  }
 },
 "nbformat": 4,
 "nbformat_minor": 4
}
